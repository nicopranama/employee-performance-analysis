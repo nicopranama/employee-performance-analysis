{
  "nbformat": 4,
  "nbformat_minor": 0,
  "metadata": {
    "colab": {
      "provenance": []
    },
    "kernelspec": {
      "name": "python3",
      "display_name": "Python 3"
    },
    "language_info": {
      "name": "python"
    }
  },
  "cells": [
    {
      "cell_type": "markdown",
      "source": [
        "Nama: Nico Pranama Hadi,\n",
        "NIM: 2702344204\n"
      ],
      "metadata": {
        "id": "xMEbrEc1Wato"
      }
    },
    {
      "cell_type": "code",
      "execution_count": null,
      "metadata": {
        "id": "wNH89GXn3sf1"
      },
      "outputs": [],
      "source": [
        "import pandas as pd\n",
        "import seaborn as sns\n",
        "import matplotlib.pyplot as plt"
      ]
    },
    {
      "cell_type": "code",
      "source": [
        "df = pd.read_csv('/content/drive/MyDrive/Big Data/employee_performance.csv')\n",
        "print(df.head())"
      ],
      "metadata": {
        "colab": {
          "base_uri": "https://localhost:8080/"
        },
        "id": "I1_1K3_sGcTI",
        "outputId": "96c0a600-71e9-4663-d8c5-6a7e7ac184f0"
      },
      "execution_count": null,
      "outputs": [
        {
          "output_type": "stream",
          "name": "stdout",
          "text": [
            "  Employee_ID             Name Department    Job_Title  Hours_Worked  \\\n",
            "0       E0001      Paula Smith  Marketing      Analyst          1661   \n",
            "1       E0002    Matthew Lewis    Finance  Coordinator          1276   \n",
            "2       E0003  Jeffrey Kennedy      Sales  Coordinator          1623   \n",
            "3       E0004     Karen Holmes    Finance     Engineer          1515   \n",
            "4       E0005    Alexis Fowler    Finance      Manager          1842   \n",
            "\n",
            "   KPI_Score  \n",
            "0      79.03  \n",
            "1      80.54  \n",
            "2      91.38  \n",
            "3      76.68  \n",
            "4      86.18  \n"
          ]
        }
      ]
    },
    {
      "cell_type": "code",
      "source": [
        "print('Info Dataset')\n",
        "print(df.info())"
      ],
      "metadata": {
        "colab": {
          "base_uri": "https://localhost:8080/"
        },
        "id": "uDhOU1kfIjgr",
        "outputId": "cebddb49-f9cc-4469-fa49-16ea0cebc1d3"
      },
      "execution_count": null,
      "outputs": [
        {
          "output_type": "stream",
          "name": "stdout",
          "text": [
            "Info Dataset\n",
            "<class 'pandas.core.frame.DataFrame'>\n",
            "RangeIndex: 500 entries, 0 to 499\n",
            "Data columns (total 6 columns):\n",
            " #   Column        Non-Null Count  Dtype  \n",
            "---  ------        --------------  -----  \n",
            " 0   Employee_ID   500 non-null    object \n",
            " 1   Name          500 non-null    object \n",
            " 2   Department    500 non-null    object \n",
            " 3   Job_Title     500 non-null    object \n",
            " 4   Hours_Worked  500 non-null    int64  \n",
            " 5   KPI_Score     500 non-null    float64\n",
            "dtypes: float64(1), int64(1), object(4)\n",
            "memory usage: 23.6+ KB\n",
            "None\n"
          ]
        }
      ]
    },
    {
      "cell_type": "code",
      "source": [
        "print('Ukuran Dataset (row, col)')\n",
        "print(df.shape)"
      ],
      "metadata": {
        "colab": {
          "base_uri": "https://localhost:8080/"
        },
        "id": "0w-tf-vyHH3i",
        "outputId": "feb2d0ca-ffdb-4881-fe37-89a9085f642f"
      },
      "execution_count": null,
      "outputs": [
        {
          "output_type": "stream",
          "name": "stdout",
          "text": [
            "Ukuran Dataset (row, col)\n",
            "(500, 6)\n"
          ]
        }
      ]
    },
    {
      "cell_type": "code",
      "source": [
        "print('Nama Kolom')\n",
        "print(df.columns)"
      ],
      "metadata": {
        "colab": {
          "base_uri": "https://localhost:8080/"
        },
        "id": "Ey-0pZQYHKmi",
        "outputId": "e0ea7b4d-371c-44a7-acde-a88b4b8b0356"
      },
      "execution_count": null,
      "outputs": [
        {
          "output_type": "stream",
          "name": "stdout",
          "text": [
            "Nama Kolom\n",
            "Index(['Employee_ID', 'Name', 'Department', 'Job_Title', 'Hours_Worked',\n",
            "       'KPI_Score'],\n",
            "      dtype='object')\n"
          ]
        }
      ]
    },
    {
      "cell_type": "code",
      "source": [
        "print('Statistik Deskriptif')\n",
        "print(df.describe())"
      ],
      "metadata": {
        "colab": {
          "base_uri": "https://localhost:8080/"
        },
        "id": "FOE4UOu9HPBw",
        "outputId": "36e0d9c4-8518-4ea5-fa9c-5c16c1a36134"
      },
      "execution_count": null,
      "outputs": [
        {
          "output_type": "stream",
          "name": "stdout",
          "text": [
            "Statistik Deskriptif\n",
            "       Hours_Worked   KPI_Score\n",
            "count    500.000000  500.000000\n",
            "mean    1602.324000   80.040160\n",
            "std      360.708975   10.214159\n",
            "min     1000.000000   46.120000\n",
            "25%     1284.000000   73.555000\n",
            "50%     1629.500000   80.485000\n",
            "75%     1922.500000   87.405000\n",
            "max     2198.000000  100.000000\n"
          ]
        }
      ]
    },
    {
      "cell_type": "code",
      "source": [
        "print('Jumlah Missing Value per Kolom')\n",
        "print(df.isnull().sum())"
      ],
      "metadata": {
        "colab": {
          "base_uri": "https://localhost:8080/"
        },
        "id": "FbXexxtMHex0",
        "outputId": "b394e453-b6ca-44b6-944d-987010ff85f6"
      },
      "execution_count": null,
      "outputs": [
        {
          "output_type": "stream",
          "name": "stdout",
          "text": [
            "Jumlah Missing Value per Kolom\n",
            "Employee_ID     0\n",
            "Name            0\n",
            "Department      0\n",
            "Job_Title       0\n",
            "Hours_Worked    0\n",
            "KPI_Score       0\n",
            "dtype: int64\n"
          ]
        }
      ]
    },
    {
      "cell_type": "code",
      "source": [
        "print('Jumlah Data Duplikat')\n",
        "print(df.duplicated().sum())"
      ],
      "metadata": {
        "colab": {
          "base_uri": "https://localhost:8080/"
        },
        "id": "D34ZQY7oIzj3",
        "outputId": "c1fe718b-bc76-46d9-812a-d246ad98f3c7"
      },
      "execution_count": null,
      "outputs": [
        {
          "output_type": "stream",
          "name": "stdout",
          "text": [
            "Jumlah Data Duplikat\n",
            "0\n"
          ]
        }
      ]
    },
    {
      "cell_type": "code",
      "source": [
        "print(\"Distribusi Department\")\n",
        "print(df['Department'].value_counts())"
      ],
      "metadata": {
        "colab": {
          "base_uri": "https://localhost:8080/"
        },
        "id": "67iHYxq_I4wB",
        "outputId": "aaff3d48-31a5-499c-f352-329dfae2f7fe"
      },
      "execution_count": null,
      "outputs": [
        {
          "output_type": "stream",
          "name": "stdout",
          "text": [
            "Distribusi Department\n",
            "Department\n",
            "Marketing      97\n",
            "HR             90\n",
            "Operations     86\n",
            "Sales          77\n",
            "Finance        75\n",
            "Engineering    75\n",
            "Name: count, dtype: int64\n"
          ]
        }
      ]
    },
    {
      "cell_type": "code",
      "source": [
        "print('Top 10 KPI')\n",
        "top_10_kpi = df.nlargest(10, 'KPI_Score')[['Employee_ID', 'Name', 'Department', 'KPI_Score']]\n",
        "print(top_10_kpi)"
      ],
      "metadata": {
        "colab": {
          "base_uri": "https://localhost:8080/"
        },
        "id": "MeSGwYtPKoUG",
        "outputId": "0cb69cba-0d49-4c65-ad0e-8c94b876dd31"
      },
      "execution_count": null,
      "outputs": [
        {
          "output_type": "stream",
          "name": "stdout",
          "text": [
            "Top 10 KPI\n",
            "    Employee_ID            Name   Department  KPI_Score\n",
            "13        E0014  Cynthia Palmer      Finance      100.0\n",
            "41        E0042       Mark Wood        Sales      100.0\n",
            "80        E0081    Lisa Richard  Engineering      100.0\n",
            "105       E0106     Kayla Davis    Marketing      100.0\n",
            "158       E0159     Amanda Lamb   Operations      100.0\n",
            "160       E0161  Kimberly Burke  Engineering      100.0\n",
            "168       E0169   Julia Shepard    Marketing      100.0\n",
            "179       E0180  Brittany Patel           HR      100.0\n",
            "193       E0194  Kimberly Burke      Finance      100.0\n",
            "249       E0250       Sean Hill    Marketing      100.0\n"
          ]
        }
      ]
    },
    {
      "cell_type": "code",
      "source": [
        "print('Bottom 10 KPI')\n",
        "bottom_10_kpi = df.nsmallest(10, 'KPI_Score')[['Employee_ID', 'Name', 'Department', 'KPI_Score']]\n",
        "print(bottom_10_kpi)"
      ],
      "metadata": {
        "colab": {
          "base_uri": "https://localhost:8080/"
        },
        "id": "7NuBhKLhL38A",
        "outputId": "756d4801-8a83-4488-ca69-85a409abc56d"
      },
      "execution_count": null,
      "outputs": [
        {
          "output_type": "stream",
          "name": "stdout",
          "text": [
            "Bottom 10 KPI\n",
            "    Employee_ID               Name   Department  KPI_Score\n",
            "477       E0478   Kimberly Simmons      Finance      46.12\n",
            "455       E0456    Melinda Jenkins  Engineering      55.31\n",
            "259       E0260  Rebekah Wilkinson           HR      55.45\n",
            "320       E0321          Kim Drake        Sales      55.84\n",
            "430       E0431          Susan Fox    Marketing      56.64\n",
            "211       E0212      Nancy Bullock           HR      56.75\n",
            "457       E0458     Jason Williams  Engineering      57.06\n",
            "203       E0204       Ronald Hurst   Operations      57.15\n",
            "355       E0356      Jason Proctor   Operations      57.23\n",
            "307       E0308  Francisco Elliott  Engineering      58.43\n"
          ]
        }
      ]
    },
    {
      "cell_type": "code",
      "source": [
        "dept_avg_kpi = df.groupby('Department')['KPI_Score'].mean().reset_index()\n",
        "dept_avg_kpi.columns = ['Department', 'Average_KPI_Score']\n",
        "print('Rata-Rata KPI per Department')\n",
        "print(dept_avg_kpi)"
      ],
      "metadata": {
        "colab": {
          "base_uri": "https://localhost:8080/"
        },
        "id": "MsWc6IAhMRYg",
        "outputId": "53a705e0-a2c1-465a-91bc-3bd8241c2c29"
      },
      "execution_count": null,
      "outputs": [
        {
          "output_type": "stream",
          "name": "stdout",
          "text": [
            "Rata-Rata KPI per Department\n",
            "    Department  Average_KPI_Score\n",
            "0  Engineering          79.951333\n",
            "1      Finance          80.376400\n",
            "2           HR          78.021333\n",
            "3    Marketing          79.875567\n",
            "4   Operations          81.190116\n",
            "5        Sales          81.081818\n"
          ]
        }
      ]
    },
    {
      "cell_type": "code",
      "source": [
        "print('Tambah Kolom KPI per Hour')\n",
        "df['KPI_per_Hour'] = df['KPI_Score'] / df['Hours_Worked']"
      ],
      "metadata": {
        "colab": {
          "base_uri": "https://localhost:8080/"
        },
        "id": "uhJfsr0iNnuS",
        "outputId": "10ab948b-df92-4d00-bd63-188164b5b9cc"
      },
      "execution_count": null,
      "outputs": [
        {
          "output_type": "stream",
          "name": "stdout",
          "text": [
            "Tambah Kolom KPI per Hour\n"
          ]
        }
      ]
    },
    {
      "cell_type": "code",
      "source": [
        "print(\"Preview dengan kolom baru\")\n",
        "df[['Employee_ID', 'Name', 'Department', 'KPI_Score', 'Hours_Worked', 'KPI_per_Hour']].head()"
      ],
      "metadata": {
        "colab": {
          "base_uri": "https://localhost:8080/",
          "height": 223
        },
        "id": "tK3IJpcqOprf",
        "outputId": "f8978e1c-fd3d-4ca4-b5df-cae93dc119ed"
      },
      "execution_count": null,
      "outputs": [
        {
          "output_type": "stream",
          "name": "stdout",
          "text": [
            "Preview dengan kolom baru\n"
          ]
        },
        {
          "output_type": "execute_result",
          "data": {
            "text/plain": [
              "  Employee_ID             Name Department  KPI_Score  Hours_Worked  \\\n",
              "0       E0001      Paula Smith  Marketing      79.03          1661   \n",
              "1       E0002    Matthew Lewis    Finance      80.54          1276   \n",
              "2       E0003  Jeffrey Kennedy      Sales      91.38          1623   \n",
              "3       E0004     Karen Holmes    Finance      76.68          1515   \n",
              "4       E0005    Alexis Fowler    Finance      86.18          1842   \n",
              "\n",
              "   KPI_per_Hour  \n",
              "0      0.047580  \n",
              "1      0.063119  \n",
              "2      0.056303  \n",
              "3      0.050614  \n",
              "4      0.046786  "
            ],
            "text/html": [
              "\n",
              "  <div id=\"df-16020081-39f4-4159-a09d-a19c1fb64ba5\" class=\"colab-df-container\">\n",
              "    <div>\n",
              "<style scoped>\n",
              "    .dataframe tbody tr th:only-of-type {\n",
              "        vertical-align: middle;\n",
              "    }\n",
              "\n",
              "    .dataframe tbody tr th {\n",
              "        vertical-align: top;\n",
              "    }\n",
              "\n",
              "    .dataframe thead th {\n",
              "        text-align: right;\n",
              "    }\n",
              "</style>\n",
              "<table border=\"1\" class=\"dataframe\">\n",
              "  <thead>\n",
              "    <tr style=\"text-align: right;\">\n",
              "      <th></th>\n",
              "      <th>Employee_ID</th>\n",
              "      <th>Name</th>\n",
              "      <th>Department</th>\n",
              "      <th>KPI_Score</th>\n",
              "      <th>Hours_Worked</th>\n",
              "      <th>KPI_per_Hour</th>\n",
              "    </tr>\n",
              "  </thead>\n",
              "  <tbody>\n",
              "    <tr>\n",
              "      <th>0</th>\n",
              "      <td>E0001</td>\n",
              "      <td>Paula Smith</td>\n",
              "      <td>Marketing</td>\n",
              "      <td>79.03</td>\n",
              "      <td>1661</td>\n",
              "      <td>0.047580</td>\n",
              "    </tr>\n",
              "    <tr>\n",
              "      <th>1</th>\n",
              "      <td>E0002</td>\n",
              "      <td>Matthew Lewis</td>\n",
              "      <td>Finance</td>\n",
              "      <td>80.54</td>\n",
              "      <td>1276</td>\n",
              "      <td>0.063119</td>\n",
              "    </tr>\n",
              "    <tr>\n",
              "      <th>2</th>\n",
              "      <td>E0003</td>\n",
              "      <td>Jeffrey Kennedy</td>\n",
              "      <td>Sales</td>\n",
              "      <td>91.38</td>\n",
              "      <td>1623</td>\n",
              "      <td>0.056303</td>\n",
              "    </tr>\n",
              "    <tr>\n",
              "      <th>3</th>\n",
              "      <td>E0004</td>\n",
              "      <td>Karen Holmes</td>\n",
              "      <td>Finance</td>\n",
              "      <td>76.68</td>\n",
              "      <td>1515</td>\n",
              "      <td>0.050614</td>\n",
              "    </tr>\n",
              "    <tr>\n",
              "      <th>4</th>\n",
              "      <td>E0005</td>\n",
              "      <td>Alexis Fowler</td>\n",
              "      <td>Finance</td>\n",
              "      <td>86.18</td>\n",
              "      <td>1842</td>\n",
              "      <td>0.046786</td>\n",
              "    </tr>\n",
              "  </tbody>\n",
              "</table>\n",
              "</div>\n",
              "    <div class=\"colab-df-buttons\">\n",
              "\n",
              "  <div class=\"colab-df-container\">\n",
              "    <button class=\"colab-df-convert\" onclick=\"convertToInteractive('df-16020081-39f4-4159-a09d-a19c1fb64ba5')\"\n",
              "            title=\"Convert this dataframe to an interactive table.\"\n",
              "            style=\"display:none;\">\n",
              "\n",
              "  <svg xmlns=\"http://www.w3.org/2000/svg\" height=\"24px\" viewBox=\"0 -960 960 960\">\n",
              "    <path d=\"M120-120v-720h720v720H120Zm60-500h600v-160H180v160Zm220 220h160v-160H400v160Zm0 220h160v-160H400v160ZM180-400h160v-160H180v160Zm440 0h160v-160H620v160ZM180-180h160v-160H180v160Zm440 0h160v-160H620v160Z\"/>\n",
              "  </svg>\n",
              "    </button>\n",
              "\n",
              "  <style>\n",
              "    .colab-df-container {\n",
              "      display:flex;\n",
              "      gap: 12px;\n",
              "    }\n",
              "\n",
              "    .colab-df-convert {\n",
              "      background-color: #E8F0FE;\n",
              "      border: none;\n",
              "      border-radius: 50%;\n",
              "      cursor: pointer;\n",
              "      display: none;\n",
              "      fill: #1967D2;\n",
              "      height: 32px;\n",
              "      padding: 0 0 0 0;\n",
              "      width: 32px;\n",
              "    }\n",
              "\n",
              "    .colab-df-convert:hover {\n",
              "      background-color: #E2EBFA;\n",
              "      box-shadow: 0px 1px 2px rgba(60, 64, 67, 0.3), 0px 1px 3px 1px rgba(60, 64, 67, 0.15);\n",
              "      fill: #174EA6;\n",
              "    }\n",
              "\n",
              "    .colab-df-buttons div {\n",
              "      margin-bottom: 4px;\n",
              "    }\n",
              "\n",
              "    [theme=dark] .colab-df-convert {\n",
              "      background-color: #3B4455;\n",
              "      fill: #D2E3FC;\n",
              "    }\n",
              "\n",
              "    [theme=dark] .colab-df-convert:hover {\n",
              "      background-color: #434B5C;\n",
              "      box-shadow: 0px 1px 3px 1px rgba(0, 0, 0, 0.15);\n",
              "      filter: drop-shadow(0px 1px 2px rgba(0, 0, 0, 0.3));\n",
              "      fill: #FFFFFF;\n",
              "    }\n",
              "  </style>\n",
              "\n",
              "    <script>\n",
              "      const buttonEl =\n",
              "        document.querySelector('#df-16020081-39f4-4159-a09d-a19c1fb64ba5 button.colab-df-convert');\n",
              "      buttonEl.style.display =\n",
              "        google.colab.kernel.accessAllowed ? 'block' : 'none';\n",
              "\n",
              "      async function convertToInteractive(key) {\n",
              "        const element = document.querySelector('#df-16020081-39f4-4159-a09d-a19c1fb64ba5');\n",
              "        const dataTable =\n",
              "          await google.colab.kernel.invokeFunction('convertToInteractive',\n",
              "                                                    [key], {});\n",
              "        if (!dataTable) return;\n",
              "\n",
              "        const docLinkHtml = 'Like what you see? Visit the ' +\n",
              "          '<a target=\"_blank\" href=https://colab.research.google.com/notebooks/data_table.ipynb>data table notebook</a>'\n",
              "          + ' to learn more about interactive tables.';\n",
              "        element.innerHTML = '';\n",
              "        dataTable['output_type'] = 'display_data';\n",
              "        await google.colab.output.renderOutput(dataTable, element);\n",
              "        const docLink = document.createElement('div');\n",
              "        docLink.innerHTML = docLinkHtml;\n",
              "        element.appendChild(docLink);\n",
              "      }\n",
              "    </script>\n",
              "  </div>\n",
              "\n",
              "\n",
              "    <div id=\"df-d80ba8db-f006-4bce-823d-beca33f48fae\">\n",
              "      <button class=\"colab-df-quickchart\" onclick=\"quickchart('df-d80ba8db-f006-4bce-823d-beca33f48fae')\"\n",
              "                title=\"Suggest charts\"\n",
              "                style=\"display:none;\">\n",
              "\n",
              "<svg xmlns=\"http://www.w3.org/2000/svg\" height=\"24px\"viewBox=\"0 0 24 24\"\n",
              "     width=\"24px\">\n",
              "    <g>\n",
              "        <path d=\"M19 3H5c-1.1 0-2 .9-2 2v14c0 1.1.9 2 2 2h14c1.1 0 2-.9 2-2V5c0-1.1-.9-2-2-2zM9 17H7v-7h2v7zm4 0h-2V7h2v10zm4 0h-2v-4h2v4z\"/>\n",
              "    </g>\n",
              "</svg>\n",
              "      </button>\n",
              "\n",
              "<style>\n",
              "  .colab-df-quickchart {\n",
              "      --bg-color: #E8F0FE;\n",
              "      --fill-color: #1967D2;\n",
              "      --hover-bg-color: #E2EBFA;\n",
              "      --hover-fill-color: #174EA6;\n",
              "      --disabled-fill-color: #AAA;\n",
              "      --disabled-bg-color: #DDD;\n",
              "  }\n",
              "\n",
              "  [theme=dark] .colab-df-quickchart {\n",
              "      --bg-color: #3B4455;\n",
              "      --fill-color: #D2E3FC;\n",
              "      --hover-bg-color: #434B5C;\n",
              "      --hover-fill-color: #FFFFFF;\n",
              "      --disabled-bg-color: #3B4455;\n",
              "      --disabled-fill-color: #666;\n",
              "  }\n",
              "\n",
              "  .colab-df-quickchart {\n",
              "    background-color: var(--bg-color);\n",
              "    border: none;\n",
              "    border-radius: 50%;\n",
              "    cursor: pointer;\n",
              "    display: none;\n",
              "    fill: var(--fill-color);\n",
              "    height: 32px;\n",
              "    padding: 0;\n",
              "    width: 32px;\n",
              "  }\n",
              "\n",
              "  .colab-df-quickchart:hover {\n",
              "    background-color: var(--hover-bg-color);\n",
              "    box-shadow: 0 1px 2px rgba(60, 64, 67, 0.3), 0 1px 3px 1px rgba(60, 64, 67, 0.15);\n",
              "    fill: var(--button-hover-fill-color);\n",
              "  }\n",
              "\n",
              "  .colab-df-quickchart-complete:disabled,\n",
              "  .colab-df-quickchart-complete:disabled:hover {\n",
              "    background-color: var(--disabled-bg-color);\n",
              "    fill: var(--disabled-fill-color);\n",
              "    box-shadow: none;\n",
              "  }\n",
              "\n",
              "  .colab-df-spinner {\n",
              "    border: 2px solid var(--fill-color);\n",
              "    border-color: transparent;\n",
              "    border-bottom-color: var(--fill-color);\n",
              "    animation:\n",
              "      spin 1s steps(1) infinite;\n",
              "  }\n",
              "\n",
              "  @keyframes spin {\n",
              "    0% {\n",
              "      border-color: transparent;\n",
              "      border-bottom-color: var(--fill-color);\n",
              "      border-left-color: var(--fill-color);\n",
              "    }\n",
              "    20% {\n",
              "      border-color: transparent;\n",
              "      border-left-color: var(--fill-color);\n",
              "      border-top-color: var(--fill-color);\n",
              "    }\n",
              "    30% {\n",
              "      border-color: transparent;\n",
              "      border-left-color: var(--fill-color);\n",
              "      border-top-color: var(--fill-color);\n",
              "      border-right-color: var(--fill-color);\n",
              "    }\n",
              "    40% {\n",
              "      border-color: transparent;\n",
              "      border-right-color: var(--fill-color);\n",
              "      border-top-color: var(--fill-color);\n",
              "    }\n",
              "    60% {\n",
              "      border-color: transparent;\n",
              "      border-right-color: var(--fill-color);\n",
              "    }\n",
              "    80% {\n",
              "      border-color: transparent;\n",
              "      border-right-color: var(--fill-color);\n",
              "      border-bottom-color: var(--fill-color);\n",
              "    }\n",
              "    90% {\n",
              "      border-color: transparent;\n",
              "      border-bottom-color: var(--fill-color);\n",
              "    }\n",
              "  }\n",
              "</style>\n",
              "\n",
              "      <script>\n",
              "        async function quickchart(key) {\n",
              "          const quickchartButtonEl =\n",
              "            document.querySelector('#' + key + ' button');\n",
              "          quickchartButtonEl.disabled = true;  // To prevent multiple clicks.\n",
              "          quickchartButtonEl.classList.add('colab-df-spinner');\n",
              "          try {\n",
              "            const charts = await google.colab.kernel.invokeFunction(\n",
              "                'suggestCharts', [key], {});\n",
              "          } catch (error) {\n",
              "            console.error('Error during call to suggestCharts:', error);\n",
              "          }\n",
              "          quickchartButtonEl.classList.remove('colab-df-spinner');\n",
              "          quickchartButtonEl.classList.add('colab-df-quickchart-complete');\n",
              "        }\n",
              "        (() => {\n",
              "          let quickchartButtonEl =\n",
              "            document.querySelector('#df-d80ba8db-f006-4bce-823d-beca33f48fae button');\n",
              "          quickchartButtonEl.style.display =\n",
              "            google.colab.kernel.accessAllowed ? 'block' : 'none';\n",
              "        })();\n",
              "      </script>\n",
              "    </div>\n",
              "\n",
              "    </div>\n",
              "  </div>\n"
            ],
            "application/vnd.google.colaboratory.intrinsic+json": {
              "type": "dataframe",
              "summary": "{\n  \"name\": \"df[['Employee_ID', 'Name', 'Department', 'KPI_Score', 'Hours_Worked', 'KPI_per_Hour']]\",\n  \"rows\": 5,\n  \"fields\": [\n    {\n      \"column\": \"Employee_ID\",\n      \"properties\": {\n        \"dtype\": \"string\",\n        \"num_unique_values\": 5,\n        \"samples\": [\n          \"E0002\",\n          \"E0005\",\n          \"E0003\"\n        ],\n        \"semantic_type\": \"\",\n        \"description\": \"\"\n      }\n    },\n    {\n      \"column\": \"Name\",\n      \"properties\": {\n        \"dtype\": \"string\",\n        \"num_unique_values\": 5,\n        \"samples\": [\n          \"Matthew Lewis\",\n          \"Alexis Fowler\",\n          \"Jeffrey Kennedy\"\n        ],\n        \"semantic_type\": \"\",\n        \"description\": \"\"\n      }\n    },\n    {\n      \"column\": \"Department\",\n      \"properties\": {\n        \"dtype\": \"string\",\n        \"num_unique_values\": 3,\n        \"samples\": [\n          \"Marketing\",\n          \"Finance\",\n          \"Sales\"\n        ],\n        \"semantic_type\": \"\",\n        \"description\": \"\"\n      }\n    },\n    {\n      \"column\": \"KPI_Score\",\n      \"properties\": {\n        \"dtype\": \"number\",\n        \"std\": 5.9541682878467554,\n        \"min\": 76.68,\n        \"max\": 91.38,\n        \"num_unique_values\": 5,\n        \"samples\": [\n          80.54,\n          86.18,\n          91.38\n        ],\n        \"semantic_type\": \"\",\n        \"description\": \"\"\n      }\n    },\n    {\n      \"column\": \"Hours_Worked\",\n      \"properties\": {\n        \"dtype\": \"number\",\n        \"std\": 208,\n        \"min\": 1276,\n        \"max\": 1842,\n        \"num_unique_values\": 5,\n        \"samples\": [\n          1276,\n          1842,\n          1623\n        ],\n        \"semantic_type\": \"\",\n        \"description\": \"\"\n      }\n    },\n    {\n      \"column\": \"KPI_per_Hour\",\n      \"properties\": {\n        \"dtype\": \"number\",\n        \"std\": 0.006835951444053207,\n        \"min\": 0.04678610206297503,\n        \"max\": 0.0631191222570533,\n        \"num_unique_values\": 5,\n        \"samples\": [\n          0.0631191222570533,\n          0.04678610206297503,\n          0.05630314232902033\n        ],\n        \"semantic_type\": \"\",\n        \"description\": \"\"\n      }\n    }\n  ]\n}"
            }
          },
          "metadata": {},
          "execution_count": 43
        }
      ]
    },
    {
      "cell_type": "code",
      "source": [
        "print('Rata-rata KPI per Department')\n",
        "plt.figure(figsize=(10, 5))\n",
        "sns.barplot(x='Department', y='Average_KPI_Score', data=dept_avg_kpi, palette='Blues_d')\n",
        "plt.title('Rata-Rata KPI per Department')\n",
        "plt.xlabel('Department')\n",
        "plt.ylabel('Average KPI Score')\n",
        "plt.xticks(rotation=45)\n",
        "plt.tight_layout()\n",
        "plt.show()"
      ],
      "metadata": {
        "colab": {
          "base_uri": "https://localhost:8080/",
          "height": 631
        },
        "id": "hE5yG7OtQIb6",
        "outputId": "437cfa33-5585-46a1-ad9e-f87c8544ab80"
      },
      "execution_count": null,
      "outputs": [
        {
          "output_type": "stream",
          "name": "stdout",
          "text": [
            "Rata-rata KPI per Department\n"
          ]
        },
        {
          "output_type": "stream",
          "name": "stderr",
          "text": [
            "/tmp/ipython-input-2745624942.py:3: FutureWarning: \n",
            "\n",
            "Passing `palette` without assigning `hue` is deprecated and will be removed in v0.14.0. Assign the `x` variable to `hue` and set `legend=False` for the same effect.\n",
            "\n",
            "  sns.barplot(x='Department', y='Average_KPI_Score', data=dept_avg_kpi, palette='Blues_d')\n"
          ]
        },
        {
          "output_type": "display_data",
          "data": {
            "text/plain": [
              "<Figure size 1000x500 with 1 Axes>"
            ],
            "image/png": "[encoded data removed]"
          },
          "metadata": {}
        }
      ]
    },
    {
      "cell_type": "code",
      "source": [
        "plt.figure(figsize=(10,5))\n",
        "sns.barplot(x='Name', y='KPI_Score', data=top_10_kpi, palette='Greens_d')\n",
        "plt.title('Top 10 Employees berdasarkan KPI Score')\n",
        "plt.ylabel('KPI Score')\n",
        "plt.xlabel('Employee Name')\n",
        "plt.xticks(rotation=45)\n",
        "plt.tight_layout()\n",
        "plt.show()"
      ],
      "metadata": {
        "colab": {
          "base_uri": "https://localhost:8080/",
          "height": 614
        },
        "id": "64KXLwVvdc2j",
        "outputId": "3f6f8914-07e7-4502-df51-ccbee23ca221"
      },
      "execution_count": 47,
      "outputs": [
        {
          "output_type": "stream",
          "name": "stderr",
          "text": [
            "/tmp/ipython-input-3390980169.py:2: FutureWarning: \n",
            "\n",
            "Passing `palette` without assigning `hue` is deprecated and will be removed in v0.14.0. Assign the `x` variable to `hue` and set `legend=False` for the same effect.\n",
            "\n",
            "  sns.barplot(x='Name', y='KPI_Score', data=top_10_kpi, palette='Greens_d')\n"
          ]
        },
        {
          "output_type": "display_data",
          "data": {
            "text/plain": [
              "<Figure size 1000x500 with 1 Axes>"
            ],
            "image/png": "[encoded data removed]"
          },
          "metadata": {}
        }
      ]
    },
    {
      "cell_type": "code",
      "source": [
        "plt.figure(figsize=(8,5))\n",
        "sns.histplot(df['KPI_Score'], bins=20, kde=True, color='skyblue')\n",
        "plt.title('Distribusi KPI Score')\n",
        "plt.xlabel('KPI Score')\n",
        "plt.ylabel('Frequency')\n",
        "plt.tight_layout()\n",
        "plt.show()"
      ],
      "metadata": {
        "id": "Dz5jFmpFSyW0",
        "colab": {
          "base_uri": "https://localhost:8080/",
          "height": 507
        },
        "outputId": "d8ddd593-5ee1-42db-c7c1-549700079e3c"
      },
      "execution_count": 48,
      "outputs": [
        {
          "output_type": "display_data",
          "data": {
            "text/plain": [
              "<Figure size 800x500 with 1 Axes>"
            ],
            "image/png": "[encoded data removed]"
          },
          "metadata": {}
        }
      ]
    },
    {
      "cell_type": "code",
      "source": [
        "plt.figure(figsize=(8,3))\n",
        "sns.boxplot(x=df['KPI_Score'], color='orange')\n",
        "plt.title('Boxplot KPI Score')\n",
        "plt.xlabel('KPI Score')\n",
        "plt.tight_layout()\n",
        "plt.show()"
      ],
      "metadata": {
        "colab": {
          "base_uri": "https://localhost:8080/",
          "height": 307
        },
        "id": "9JxqgacMd0U4",
        "outputId": "b4ad6a94-5263-4dbf-cda2-576fce04b1b6"
      },
      "execution_count": 49,
      "outputs": [
        {
          "output_type": "display_data",
          "data": {
            "text/plain": [
              "<Figure size 800x300 with 1 Axes>"
            ],
            "image/png": "[encoded data removed]"
          },
          "metadata": {}
        }
      ]
    },
    {
      "cell_type": "code",
      "source": [
        "df.to_csv('cleaned_employee_performance.csv', index=False)\n",
        "print(\"\\n File baru disimpan sebagai 'cleaned_employee_performance.csv'\")"
      ],
      "metadata": {
        "colab": {
          "base_uri": "https://localhost:8080/"
        },
        "id": "fkAcMFIgPp6N",
        "outputId": "bc3d3542-512e-46ba-b476-1ea762100902"
      },
      "execution_count": null,
      "outputs": [
        {
          "output_type": "stream",
          "name": "stdout",
          "text": [
            "\n",
            " File baru disimpan sebagai 'cleaned_employee_performance.csv'\n"
          ]
        }
      ]
    }
  ]
}